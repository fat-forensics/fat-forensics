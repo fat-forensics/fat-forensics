{
 "cells": [
  {
   "cell_type": "code",
   "execution_count": 3,
   "metadata": {},
   "outputs": [],
   "source": [
    "from fatf.accountability.data.new import KAnonymity, LDiversity, TCloseness\n",
    "from fatf.accountability.data.testing import create_dataset\n",
    "from numpy.lib import recfunctions as rfn\n",
    "from pprint import pprint\n",
    "import numpy as np"
   ]
  },
  {
   "cell_type": "code",
   "execution_count": 9,
   "metadata": {},
   "outputs": [
    {
     "name": "stdout",
     "output_type": "stream",
     "text": [
      "array([('Heidi Mitchell', 74, 52, 'cancer', '03/06/2018', '1121', 'female', 'uboyd@hotmail.com'),\n",
      "       ('Tina Burns',  3, 86, 'hip', '26/09/2017', '0323', 'female', 'stevenwheeler@williams.bi'),\n",
      "       ('Justin Brown', 26, 56, 'heart', '26/12/2015', '0100', 'female', 'velasquezjake@gmail.com'),\n",
      "       ('Brent Parker', 70, 57, 'heart', '02/10/2011', '3131', 'male', 'kennethsingh@strong-foley'),\n",
      "       ('Bryan Norton', 48, 57, 'hip', '09/09/2012', '0301', 'male', 'erica36@hotmail.com'),\n",
      "       ('Ms. Erin Craig', 30, 98, 'cancer', '04/11/2006', '2223', 'male', 'ritterluke@gmail.com'),\n",
      "       ('Gerald Park', 41, 73, 'heart', '15/12/2015', '0101', 'female', 'larrylee@hayes-brown.net'),\n",
      "       ('Monica Fry', 24,  1, 'hip', '21/12/2005', '1212', 'male', 'morenocraig@howard.com'),\n",
      "       ('Michael Smith', 44, 66, 'hip', '07/11/2012', '0111', 'male', 'edward72@dunlap-jackson.c'),\n",
      "       ('Dean Campbell', 62, 96, 'lung', '22/01/2009', '2320', 'female', 'michele18@hotmail.com'),\n",
      "       ('Kimberly Kent', 63, 51, 'cancer', '16/06/2017', '2003', 'male', 'wilsoncarla@mitchell-gree'),\n",
      "       ('Michael Burnett', 26, 88, 'heart', '07/03/2009', '0301', 'male', 'collin04@scott.org'),\n",
      "       ('Patricia Richard', 94, 64, 'heart', '20/08/2006', '3310', 'female', 'deniserodriguez@hotmail.c'),\n",
      "       ('Joshua Ramos', 59, 19, 'cancer', '22/07/2005', '3013', 'female', 'michaelolson@yahoo.com'),\n",
      "       ('Samuel Fletcher', 14, 88, 'lung', '29/07/2004', '1211', 'female', 'jessicagarcia@hotmail.com'),\n",
      "       ('Donald Hess', 16, 15, 'hip', '16/09/2010', '0102', 'male', 'rking@gray-mueller.com'),\n",
      "       ('Rebecca Thomas', 94, 48, 'cancer', '05/02/2000', '0223', 'female', 'alex57@gmail.com'),\n",
      "       ('Hannah Osborne', 41, 25, 'heart', '11/06/2012', '0212', 'female', 'ericsullivan@austin.com'),\n",
      "       ('Sarah Nelson', 36, 57, 'cancer', '13/01/2003', '0130', 'female', 'davidcruz@hood-mathews.co'),\n",
      "       ('Angela Kelly', 37, 52, 'heart', '28/03/2009', '1023', 'female', 'pwilson@howell-bryant.com'),\n",
      "       ('Susan Williams', 21, 42, 'lung', '15/11/2005', '0203', 'male', 'smithjoshua@allen.com')],\n",
      "      dtype=[('Name', '<U16'), ('Age', '<i4'), ('Weight', '<i4'), ('Disease', '<U6'), ('Dob', '<U16'), ('Zipcode', '<U6'), ('Gender', '<U10'), ('Email', '<U25')])\n"
     ]
    }
   ],
   "source": [
    "dataset, treatments, lca_funcs, distance_funcs, range_funcs = create_dataset()  \n",
    "pprint(dataset)"
   ]
  },
  {
   "cell_type": "code",
   "execution_count": 17,
   "metadata": {},
   "outputs": [
    {
     "name": "stdout",
     "output_type": "stream",
     "text": [
      "[('*', 'hip', '**/**/20**', '****', 'female', '*', '0-10', '85-85')\n",
      " ('*', 'lung', '**/**/20**', '****', 'female', '*', '0-10', '85-85')]\n",
      "\n",
      "\n",
      "[('*', 'cancer', '**/**/201*', '****', 'female', '*', '40-70', '25-50')\n",
      " ('*', 'heart', '**/**/201*', '****', 'female', '*', '40-70', '25-50')]\n",
      "\n",
      "\n",
      "[('*', 'heart', '**/12/2015', '010*', 'female', '*', '25-40', '55-70')\n",
      " ('*', 'heart', '**/12/2015', '010*', 'female', '*', '25-40', '55-70')]\n",
      "\n",
      "\n",
      "[('*', 'heart', '**/**/201*', '****', 'male', '*', '45-70', '55-55')\n",
      " ('*', 'hip', '**/**/201*', '****', 'male', '*', '45-70', '55-55')]\n",
      "\n",
      "\n",
      "[('*', 'cancer', '**/**/20**', '****', 'male', '*', '30-40', '65-95')\n",
      " ('*', 'hip', '**/**/20**', '****', 'male', '*', '30-40', '65-95')]\n",
      "\n",
      "\n",
      "[('*', 'hip', '**/10-12/2005', '****', 'male', '*', '20-20', '0-40')\n",
      " ('*', 'lung', '**/10-12/2005', '****', 'male', '*', '20-20', '0-40')]\n",
      "\n",
      "\n",
      "[('*', 'lung', '**/**/200*', '****', 'female', '*', '35-60', '55-95')\n",
      " ('*', 'cancer', '**/**/200*', '****', 'female', '*', '35-60', '55-95')]\n",
      "\n",
      "\n",
      "[('*', 'cancer', '**/**/20**', '****', 'male', '*', '25-60', '50-85')\n",
      " ('*', 'heart', '**/**/20**', '****', 'male', '*', '25-60', '50-85')]\n",
      "\n",
      "\n",
      "[('*', 'heart', '**/**/200*', '****', 'female', '*', '90-90', '45-60')\n",
      " ('*', 'cancer', '**/**/200*', '****', 'female', '*', '90-90', '45-60')]\n",
      "\n",
      "\n",
      "[('*', 'cancer', '**/**/20**', '****', 'Gender', '*', '15-55', '15-50')\n",
      " ('*', 'hip', '**/**/20**', '****', 'Gender', '*', '15-55', '15-50')\n",
      " ('*', 'heart', '**/**/20**', '****', 'Gender', '*', '15-55', '15-50')]\n",
      "\n",
      "\n"
     ]
    }
   ],
   "source": [
    "mdl = KAnonymity(dataset, treatments['I'], treatments['QI'], treatments['SA'], \n",
    "                 lca_funcs=lca_funcs, range_funcs=range_funcs, k=2)\n",
    "newdataset = mdl.apply_kanonymity(suppress=True)\n",
    "cluster_assignments = newdataset['cluster']\n",
    "newdataset = remove_field(newdataset, 'cluster')\n",
    "#pprint(newdataset)\n",
    "for cluster in set(cluster_assignments):\n",
    "    pos = np.where(cluster_assignments == cluster)[0]\n",
    "    print(newdataset[pos])\n",
    "    print('\\n')"
   ]
  },
  {
   "cell_type": "code",
   "execution_count": 19,
   "metadata": {},
   "outputs": [
    {
     "name": "stdout",
     "output_type": "stream",
     "text": [
      "[('*', 'heart', '**/**/201*', '****', 'male', '*', '45-70', '50-55')\n",
      " ('*', 'hip', '**/**/201*', '****', 'male', '*', '45-70', '50-55')\n",
      " ('*', 'cancer', '**/**/201*', '****', 'male', '*', '45-70', '50-55')]\n",
      "\n",
      "\n",
      "[('*', 'cancer', '**/**/201*', '****', 'female', '*', '0-70', '25-85')\n",
      " ('*', 'hip', '**/**/201*', '****', 'female', '*', '0-70', '25-85')\n",
      " ('*', 'heart', '**/**/201*', '****', 'female', '*', '0-70', '25-85')]\n",
      "\n",
      "\n",
      "[('*', 'heart', '**/**/20**', '****', 'female', '*', '10-35', '55-85')\n",
      " ('*', 'lung', '**/**/20**', '****', 'female', '*', '10-35', '55-85')\n",
      " ('*', 'cancer', '**/**/20**', '****', 'female', '*', '10-35', '55-85')]\n",
      "\n",
      "\n",
      "[('*', 'cancer', '**/**/20**', '****', 'male', '*', '25-40', '65-95')\n",
      " ('*', 'hip', '**/**/20**', '****', 'male', '*', '25-40', '65-95')\n",
      " ('*', 'heart', '**/**/20**', '****', 'male', '*', '25-40', '65-95')]\n",
      "\n",
      "\n",
      "[('*', 'heart', '**/**/20**', '****', 'female', '*', '40-60', '15-95')\n",
      " ('*', 'lung', '**/**/20**', '****', 'female', '*', '40-60', '15-95')\n",
      " ('*', 'cancer', '**/**/20**', '****', 'female', '*', '40-60', '15-95')]\n",
      "\n",
      "\n",
      "[('*', 'hip', '**/**/200*', '****', 'Gender', '*', '20-35', '0-50')\n",
      " ('*', 'heart', '**/**/200*', '****', 'Gender', '*', '20-35', '0-50')\n",
      " ('*', 'lung', '**/**/200*', '****', 'Gender', '*', '20-35', '0-50')]\n",
      "\n",
      "\n",
      "[('*', 'heart', '**/**/20**', '****', 'Gender', '*', '15-90', '15-60')\n",
      " ('*', 'hip', '**/**/20**', '****', 'Gender', '*', '15-90', '15-60')\n",
      " ('*', 'cancer', '**/**/20**', '****', 'Gender', '*', '15-90', '15-60')]\n",
      "\n",
      "\n"
     ]
    }
   ],
   "source": [
    "mdl = LDiversity(dataset, treatments['I'], treatments['QI'], treatments['SA'], \n",
    "                 lca_funcs=lca_funcs, range_funcs=range_funcs, l=2)\n",
    "newdataset = mdl.apply_ldiversity(suppress=True)\n",
    "cluster_assignments = newdataset['cluster']\n",
    "newdataset = remove_field(newdataset, 'cluster')\n",
    "#pprint(newdataset)\n",
    "for cluster in set(cluster_assignments):\n",
    "    pos = np.where(cluster_assignments == cluster)[0]\n",
    "    print(newdataset[pos])\n",
    "    print('\\n')"
   ]
  },
  {
   "cell_type": "code",
   "execution_count": 20,
   "metadata": {},
   "outputs": [
    {
     "name": "stdout",
     "output_type": "stream",
     "text": [
      "[('*', 'cancer', '**/**/20**', '****', 'male', '*', '15-30', '15-95')\n",
      " ('*', 'heart', '**/**/20**', '****', 'male', '*', '15-30', '15-95')\n",
      " ('*', 'hip', '**/**/20**', '****', 'male', '*', '15-30', '15-95')\n",
      " ('*', 'lung', '**/**/20**', '****', 'male', '*', '15-30', '15-95')]\n",
      "\n",
      "\n",
      "[('*', 'cancer', '**/**/20**', '****', 'female', '*', '0-70', '25-85')\n",
      " ('*', 'hip', '**/**/20**', '****', 'female', '*', '0-70', '25-85')\n",
      " ('*', 'lung', '**/**/20**', '****', 'female', '*', '0-70', '25-85')\n",
      " ('*', 'heart', '**/**/20**', '****', 'female', '*', '0-70', '25-85')]\n",
      "\n",
      "\n",
      "[('*', 'heart', '**/**/20**', '****', 'Gender', '*', '20-90', '0-95')\n",
      " ('*', 'heart', '**/**/20**', '****', 'Gender', '*', '20-90', '0-95')\n",
      " ('*', 'hip', '**/**/20**', '****', 'Gender', '*', '20-90', '0-95')\n",
      " ('*', 'heart', '**/**/20**', '****', 'Gender', '*', '20-90', '0-95')\n",
      " ('*', 'hip', '**/**/20**', '****', 'Gender', '*', '20-90', '0-95')\n",
      " ('*', 'hip', '**/**/20**', '****', 'Gender', '*', '20-90', '0-95')\n",
      " ('*', 'lung', '**/**/20**', '****', 'Gender', '*', '20-90', '0-95')\n",
      " ('*', 'cancer', '**/**/20**', '****', 'Gender', '*', '20-90', '0-95')\n",
      " ('*', 'heart', '**/**/20**', '****', 'Gender', '*', '20-90', '0-95')\n",
      " ('*', 'cancer', '**/**/20**', '****', 'Gender', '*', '20-90', '0-95')\n",
      " ('*', 'cancer', '**/**/20**', '****', 'Gender', '*', '20-90', '0-95')\n",
      " ('*', 'cancer', '**/**/20**', '****', 'Gender', '*', '20-90', '0-95')\n",
      " ('*', 'heart', '**/**/20**', '****', 'Gender', '*', '20-90', '0-95')]\n",
      "\n",
      "\n"
     ]
    }
   ],
   "source": [
    "mdl = LDiversity(dataset, treatments['I'], treatments['QI'], treatments['SA'], \n",
    "                 lca_funcs=lca_funcs, range_funcs=range_funcs, l=4)\n",
    "newdataset = mdl.apply_ldiversity(suppress=True)\n",
    "cluster_assignments = newdataset['cluster']\n",
    "newdataset = remove_field(newdataset, 'cluster')\n",
    "#pprint(newdataset)\n",
    "for cluster in set(cluster_assignments):\n",
    "    pos = np.where(cluster_assignments == cluster)[0]\n",
    "    print(newdataset[pos])\n",
    "    print('\\n')"
   ]
  },
  {
   "cell_type": "code",
   "execution_count": 23,
   "metadata": {},
   "outputs": [
    {
     "name": "stdout",
     "output_type": "stream",
     "text": [
      "[('*', 'hip', '**/**/20**', '****', 'female', '*', '0-60', '50-95')\n",
      " ('*', 'lung', '**/**/20**', '****', 'female', '*', '0-60', '50-95')\n",
      " ('*', 'cancer', '**/**/20**', '****', 'female', '*', '0-60', '50-95')\n",
      " ('*', 'heart', '**/**/20**', '****', 'female', '*', '0-60', '50-95')]\n",
      "\n",
      "\n",
      "[('*', 'cancer', '**/**/20**', '****', 'Gender', '*', '10-70', '25-85')\n",
      " ('*', 'hip', '**/**/20**', '****', 'Gender', '*', '10-70', '25-85')\n",
      " ('*', 'lung', '**/**/20**', '****', 'Gender', '*', '10-70', '25-85')\n",
      " ('*', 'heart', '**/**/20**', '****', 'Gender', '*', '10-70', '25-85')]\n",
      "\n",
      "\n",
      "[('*', 'heart', '**/**/20**', '****', 'Gender', '*', '15-90', '0-95')\n",
      " ('*', 'heart', '**/**/20**', '****', 'Gender', '*', '15-90', '0-95')\n",
      " ('*', 'cancer', '**/**/20**', '****', 'Gender', '*', '15-90', '0-95')\n",
      " ('*', 'heart', '**/**/20**', '****', 'Gender', '*', '15-90', '0-95')\n",
      " ('*', 'hip', '**/**/20**', '****', 'Gender', '*', '15-90', '0-95')\n",
      " ('*', 'hip', '**/**/20**', '****', 'Gender', '*', '15-90', '0-95')\n",
      " ('*', 'cancer', '**/**/20**', '****', 'Gender', '*', '15-90', '0-95')\n",
      " ('*', 'heart', '**/**/20**', '****', 'Gender', '*', '15-90', '0-95')\n",
      " ('*', 'heart', '**/**/20**', '****', 'Gender', '*', '15-90', '0-95')\n",
      " ('*', 'cancer', '**/**/20**', '****', 'Gender', '*', '15-90', '0-95')\n",
      " ('*', 'hip', '**/**/20**', '****', 'Gender', '*', '15-90', '0-95')\n",
      " ('*', 'cancer', '**/**/20**', '****', 'Gender', '*', '15-90', '0-95')\n",
      " ('*', 'lung', '**/**/20**', '****', 'Gender', '*', '15-90', '0-95')]\n",
      "\n",
      "\n"
     ]
    }
   ],
   "source": [
    "mdl = TCloseness(dataset, treatments['I'], treatments['QI'], treatments['SA'], \n",
    "                 lca_funcs=lca_funcs, range_funcs=range_funcs, t=1)\n",
    "newdataset = mdl.apply_tcloseness(suppress=True)\n",
    "cluster_assignments = newdataset['cluster']\n",
    "newdataset = remove_field(newdataset, 'cluster')\n",
    "#pprint(newdataset)\n",
    "for cluster in set(cluster_assignments):\n",
    "    pos = np.where(cluster_assignments == cluster)[0]\n",
    "    print(newdataset[pos])\n",
    "    print('\\n')"
   ]
  }
 ],
 "metadata": {
  "kernelspec": {
   "display_name": "Python 3",
   "language": "python",
   "name": "python3"
  },
  "language_info": {
   "codemirror_mode": {
    "name": "ipython",
    "version": 3
   },
   "file_extension": ".py",
   "mimetype": "text/x-python",
   "name": "python",
   "nbconvert_exporter": "python",
   "pygments_lexer": "ipython3",
   "version": "3.5.6"
  }
 },
 "nbformat": 4,
 "nbformat_minor": 2
}
